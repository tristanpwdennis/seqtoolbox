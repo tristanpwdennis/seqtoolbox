{
 "cells": [
  {
   "cell_type": "code",
   "execution_count": 89,
   "metadata": {},
   "outputs": [],
   "source": [
    "#import externally developed packages\n",
    "import os\n",
    "import sys\n",
    "import vcfpy\n",
    "import re\n",
    "import pandas as pd"
   ]
  },
  {
   "cell_type": "markdown",
   "metadata": {},
   "source": [
    "## Import a .vcf file and convert it into a dataframe with a unique identifier for each SNP"
   ]
  },
  {
   "cell_type": "code",
   "execution_count": 122,
   "metadata": {
    "scrolled": true
   },
   "outputs": [],
   "source": [
    "##import vcf\n",
    "\n",
    "#specify path of vcf\n",
    "vcf_path = '/Users/tristanpwdennis/Software/seqtoolbox/analysis-scripts/vcf/vcf/test.vcf'\n",
    "\n",
    "#import vcf as reader object\n",
    "reader = vcfpy.Reader.from_path(vcf_path)\n",
    "\n",
    "# Build header\n",
    "header = pd.DataFrame.transpose(pd.DataFrame(['#CHROM', 'POS', 'REF', 'ALT'] + reader.header.samples.names))\n",
    "\n",
    "# Design matrix in list format\n",
    "X_list = []  \n",
    "\n",
    "#convert vcf convert to dataframe - extract GT field, chrom, pos ref and alt data\n",
    "for record in reader:\n",
    "    if not record.is_snv():\n",
    "        continue\n",
    "    line = [record.CHROM, record.POS, record.REF]\n",
    "    line += [alt.value for alt in record.ALT]\n",
    "    line += [call.data.get('GT') or './.' for call in record.calls]\n",
    "    X_list.append(line)\n",
    "    df = pd.DataFrame(X_list)\n",
    "\n",
    "#stick header onto the genotype frame\n",
    "df=header.append(df) \n",
    "\n",
    "#make added row into the df header\n",
    "new_header = df.iloc[0] #grab the first row for the header\n",
    "df = df[1:] #take the data less the header row\n",
    "df.columns = new_header #set the header row as the df header"
   ]
  },
  {
   "cell_type": "code",
   "execution_count": 123,
   "metadata": {
    "scrolled": true
   },
   "outputs": [],
   "source": [
    "id=df[\"#CHROM\"].map(str) + df[\"POS\"].map(str) + df[\"REF\"].map(str) + df[\"ALT\"].map(str)\n",
    "df.insert(0, 'id', id)\n",
    "gt=df.drop(['#CHROM', 'POS', 'REF', 'ALT'], axis=1)"
   ]
  },
  {
   "cell_type": "code",
   "execution_count": 129,
   "metadata": {
    "scrolled": true
   },
   "outputs": [],
   "source": [
    "##vcf to colony input\n",
    "\n",
    "#specify mapping (from genotype values to codes)\n",
    "di = {\n",
    "    \"./.\": 0,\n",
    "    \"0/0\": 1,\n",
    "    \"0/1\": 2,\n",
    "    \"1/0\": 3,\n",
    "    \"1/1\": 4,\n",
    "}  \n",
    "\n",
    "#make genotype id\n",
    "gt=gt.replace(di)\n"
   ]
  },
  {
   "cell_type": "code",
   "execution_count": 131,
   "metadata": {},
   "outputs": [],
   "source": [
    "gt=gt.transpose()"
   ]
  },
  {
   "cell_type": "code",
   "execution_count": null,
   "metadata": {},
   "outputs": [],
   "source": []
  }
 ],
 "metadata": {
  "kernelspec": {
   "display_name": "Python 3",
   "language": "python",
   "name": "python3"
  },
  "language_info": {
   "codemirror_mode": {
    "name": "ipython",
    "version": 3
   },
   "file_extension": ".py",
   "mimetype": "text/x-python",
   "name": "python",
   "nbconvert_exporter": "python",
   "pygments_lexer": "ipython3",
   "version": "3.7.5"
  }
 },
 "nbformat": 4,
 "nbformat_minor": 2
}
