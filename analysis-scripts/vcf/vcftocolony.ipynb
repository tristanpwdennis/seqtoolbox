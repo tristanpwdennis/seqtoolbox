{
 "cells": [
  {
   "cell_type": "code",
   "execution_count": 1,
   "metadata": {},
   "outputs": [],
   "source": [
    "import os\n",
    "import sys\n",
    "import vcfpy\n",
    "import re\n",
    "import pandas as pd"
   ]
  },
  {
   "cell_type": "code",
   "execution_count": 22,
   "metadata": {},
   "outputs": [],
   "source": [
    "#specify path of vcf\n",
    "vcf_path = '/Users/tristanpwdennis/Software/seqtoolbox/analysis-scripts/vcf/vcf/test.vcf'\n",
    "\n",
    "#import vcf as reader object\n",
    "reader = vcfpy.Reader.from_path(vcf_path)\n",
    "\n",
    "# Build header\n",
    "header = pd.DataFrame.transpose(pd.DataFrame(['#CHROM', 'POS', 'REF', 'ALT'] + reader.header.samples.names))\n",
    "\n",
    "# Design matrix in list format\n",
    "X_list = []  \n",
    "\n",
    "#convert vcf to tab delimited text, convert to dataframe\n",
    "for record in reader:\n",
    "    if not record.is_snv():\n",
    "        continue\n",
    "    line = [record.CHROM, record.POS, record.REF]\n",
    "    line += [alt.value for alt in record.ALT]\n",
    "    line += [call.data.get('GT') or './.' for call in record.calls]\n",
    "    X_list.append(line)\n",
    "    df = pd.DataFrame(X_list)\n",
    "\n",
    "#stick header on top to make final vcf\n",
    "vcf=header.append(df)   \n"
   ]
  },
  {
   "cell_type": "code",
   "execution_count": 8,
   "metadata": {},
   "outputs": [],
   "source": [
    "#specify mapping (from genotype values to codes)\n",
    "di = {\n",
    "    \"./.\": 0,\n",
    "    \"0/0\": 1,\n",
    "    \"0/1\": 2,\n",
    "    \"1/0\": 3,\n",
    "    \"1/1\": 4,\n",
    "}  \n",
    "\n",
    "df[\"pos\"] = df[0].map(str) + df[1].map(str) + df[2].map(str) + df[3].map(str)"
   ]
  }
 ],
 "metadata": {
  "kernelspec": {
   "display_name": "Python 3",
   "language": "python",
   "name": "python3"
  },
  "language_info": {
   "codemirror_mode": {
    "name": "ipython",
    "version": 3
   },
   "file_extension": ".py",
   "mimetype": "text/x-python",
   "name": "python",
   "nbconvert_exporter": "python",
   "pygments_lexer": "ipython3",
   "version": "3.7.5"
  }
 },
 "nbformat": 4,
 "nbformat_minor": 2
}
